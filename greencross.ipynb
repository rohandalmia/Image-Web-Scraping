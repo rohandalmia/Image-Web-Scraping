{
 "cells": [
  {
   "cell_type": "code",
   "execution_count": 1,
   "metadata": {},
   "outputs": [],
   "source": [
    "import pandas as pd\n",
    "import requests\n",
    "import urllib.request \n",
    "from PIL import Image \n",
    "from io import BytesIO\n",
    "from bs4 import BeautifulSoup\n",
    "import os"
   ]
  },
  {
   "cell_type": "code",
   "execution_count": 2,
   "metadata": {},
   "outputs": [
    {
     "data": {
      "text/html": [
       "<div>\n",
       "<style scoped>\n",
       "    .dataframe tbody tr th:only-of-type {\n",
       "        vertical-align: middle;\n",
       "    }\n",
       "\n",
       "    .dataframe tbody tr th {\n",
       "        vertical-align: top;\n",
       "    }\n",
       "\n",
       "    .dataframe thead th {\n",
       "        text-align: right;\n",
       "    }\n",
       "</style>\n",
       "<table border=\"1\" class=\"dataframe\">\n",
       "  <thead>\n",
       "    <tr style=\"text-align: right;\">\n",
       "      <th></th>\n",
       "      <th>folder_name</th>\n",
       "      <th>Image Location</th>\n",
       "    </tr>\n",
       "  </thead>\n",
       "  <tbody>\n",
       "    <tr>\n",
       "      <th>0</th>\n",
       "      <td>FOOD9</td>\n",
       "      <td>https://www.petbarn.com.au/royal-canin-labrado...</td>\n",
       "    </tr>\n",
       "    <tr>\n",
       "      <th>1</th>\n",
       "      <td>FOOD9</td>\n",
       "      <td>https://www.petbarn.com.au/advance-delicate-tu...</td>\n",
       "    </tr>\n",
       "    <tr>\n",
       "      <th>2</th>\n",
       "      <td>FOOD9</td>\n",
       "      <td>https://www.petbarn.com.au/science-diet-feline...</td>\n",
       "    </tr>\n",
       "    <tr>\n",
       "      <th>3</th>\n",
       "      <td>FOOD9</td>\n",
       "      <td>https://www.petbarn.com.au/black-hawk-grain-fr...</td>\n",
       "    </tr>\n",
       "    <tr>\n",
       "      <th>4</th>\n",
       "      <td>LITTER5</td>\n",
       "      <td>https://www.petbarn.com.au/freshco-clay-clumpi...</td>\n",
       "    </tr>\n",
       "  </tbody>\n",
       "</table>\n",
       "</div>"
      ],
      "text/plain": [
       "  folder_name                                     Image Location\n",
       "0       FOOD9  https://www.petbarn.com.au/royal-canin-labrado...\n",
       "1       FOOD9  https://www.petbarn.com.au/advance-delicate-tu...\n",
       "2       FOOD9  https://www.petbarn.com.au/science-diet-feline...\n",
       "3       FOOD9  https://www.petbarn.com.au/black-hawk-grain-fr...\n",
       "4     LITTER5  https://www.petbarn.com.au/freshco-clay-clumpi..."
      ]
     },
     "execution_count": 2,
     "metadata": {},
     "output_type": "execute_result"
    }
   ],
   "source": [
    "# read file with links\n",
    "gc_file = pd.read_excel('data/Wk33-34 Big Brand Sale Brief V1.xlsx', sheet_name = 'RD TEST')\n",
    "gc_file.columns.values[0] = 'folder_name'\n",
    "gc_file.head(5)"
   ]
  },
  {
   "cell_type": "code",
   "execution_count": 7,
   "metadata": {},
   "outputs": [
    {
     "name": "stdout",
     "output_type": "stream",
     "text": [
      "Downloaded Trade Sales\\FOOD9\\image_1.jpg from https://www.petbarn.com.au/royal-canin-labrador-dog-food?sku=30327\n",
      "Downloaded Trade Sales\\FOOD9\\image_2.jpg from https://www.petbarn.com.au/advance-delicate-tuna-adult-cat-food-85gx7-c76ab7\n",
      "Downloaded Trade Sales\\FOOD9\\image_3.jpg from https://www.petbarn.com.au/science-diet-feline-oral-care-cat-food?sku=132843\n",
      "Downloaded Trade Sales\\FOOD9\\image_4.jpg from https://www.petbarn.com.au/black-hawk-grain-free-chicken-adult-dog-can-100gx9\n",
      "Downloaded Trade Sales\\LITTER5\\image_1.jpg from https://www.petbarn.com.au/freshco-clay-clumping-cat-litter?sku=141868\n",
      "Downloaded Trade Sales\\LITTER5\\image_2.jpg from https://www.petbarn.com.au/cature-tofu-clumping-milky-cat-litter?sku=144701\n",
      "Most likely URL gave 404. Please check LITTER5: https://www.petbarn.com.au/rufus-coco-wee-kitty-clumping-corn-cat-litter?sku=144994\n",
      "Most likely URL gave 404. Please check LITTER5: https://www.petbarn.com.au/ezi-lockodour-natural-mineral-zeolite-cat-litter-pellets-2l\n",
      "Downloaded Trade Sales\\FTW1\\image_1.jpg from https://www.petbarn.com.au/advocate-purple-for-large-cat?sku=21199\n",
      "Downloaded Trade Sales\\FTW1\\image_2.jpg from https://www.petbarn.com.au/simparica-trio-20-1-40kg-dog-flea-tick-worm-chew?sku=139850\n",
      "Downloaded Trade Sales\\FTW1\\image_3.jpg from https://www.petbarn.com.au/nexgard-spectra-for-dogs-15-1-30kg?sku=134736\n"
     ]
    }
   ],
   "source": [
    "# Function to download an image\n",
    "def download_image(url, folder_name, image_counters):\n",
    "    headers = {\n",
    "        'Cache-Control': 'no-cache',\n",
    "        'Pragma': 'no-cache'\n",
    "    }\n",
    "    response = requests.get(url, headers = headers)\n",
    "    soup = BeautifulSoup(response.content, 'html.parser')\n",
    "    img_tag = soup.find('img', {'alt':'main product photo'})\n",
    "    try:\n",
    "        img_url = img_tag['src']\n",
    "        img_response = requests.get(img_url)\n",
    "        if img_response.status_code == 200:\n",
    "            # Create the folder if it does not exist\n",
    "            os.makedirs(f'Trade Sales/{folder_name}', exist_ok=True)\n",
    "            \n",
    "            # Initialize the image counter for the folder if not already set\n",
    "            if folder_name not in image_counters:\n",
    "                image_counters[folder_name] = 1  # Start counting from 1\n",
    "            \n",
    "            # Get the current image counter for the folder\n",
    "            img_counter = image_counters[folder_name]\n",
    "            img_path = os.path.join('Trade Sales', folder_name, f'image_{img_counter}.jpg')\n",
    "            \n",
    "            with open(img_path, 'wb') as f:\n",
    "                f.write(img_response.content)\n",
    "            print(f'Downloaded {img_path} from {url}')\n",
    "            # Increment the image counter for the folder\n",
    "            image_counters[folder_name] += 1\n",
    "        else:\n",
    "            print(f'Failed to download image from {url}')\n",
    "    except TypeError:\n",
    "        if url[0] == 'O' or url[0] == 'W':\n",
    "            print(f'{folder_name}: {url} is a server file path, please access manually')\n",
    "        else:\n",
    "            print(f'Likely URL gave 404. Please check {folder_name}: {url}')\n",
    "        pass\n",
    "\n",
    "# Initialize dictionary to store image counters per folder\n",
    "image_counters = {}\n",
    "\n",
    "# Loop through the DataFrame and download each image\n",
    "for index, row in gc_file.iterrows():\n",
    "    folder_name = row['folder_name']\n",
    "    url = row['Image Location']\n",
    "    download_image(url.strip(), folder_name.strip(), image_counters)"
   ]
  }
 ],
 "metadata": {
  "kernelspec": {
   "display_name": "Python 3",
   "language": "python",
   "name": "python3"
  },
  "language_info": {
   "codemirror_mode": {
    "name": "ipython",
    "version": 3
   },
   "file_extension": ".py",
   "mimetype": "text/x-python",
   "name": "python",
   "nbconvert_exporter": "python",
   "pygments_lexer": "ipython3",
   "version": "3.9.5"
  }
 },
 "nbformat": 4,
 "nbformat_minor": 2
}
