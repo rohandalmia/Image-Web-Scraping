{
 "cells": [
  {
   "cell_type": "code",
   "execution_count": 40,
   "metadata": {},
   "outputs": [],
   "source": [
    "import pandas as pd\n",
    "import requests\n",
    "import urllib.request \n",
    "from PIL import Image \n",
    "from io import BytesIO\n",
    "from bs4 import BeautifulSoup\n",
    "import os"
   ]
  },
  {
   "cell_type": "code",
   "execution_count": null,
   "metadata": {},
   "outputs": [],
   "source": [
    "# trade promo\n",
    "trade_promo = pd.read_excel('data/Trade Promo Brief Template - WK2 Catch it quick.xlsx', sheet_name= 'EDM Modules', skiprows=6)\n",
    "# dropping first col since its empty\n",
    "trade_promo = trade_promo.drop(trade_promo.columns[0], axis= 1)\n",
    "# remove whitespace from column names\n",
    "trade_promo.columns = trade_promo.columns.str.replace(' ', '')\n",
    "# drop rows where module size is null - indicating modul name is empty\n",
    "trade_promo = trade_promo[trade_promo['ModuleSize'].notnull()]\n",
    "# retain imp cols\n",
    "retain_cols = [i for i in trade_promo.columns if 'priority' in i.lower() or 'imagelink' in i.lower()]\n",
    "trade_promo = trade_promo.loc[:,retain_cols]\n",
    "trade_promo.columns.values[0] = 'module'\n",
    "trade_promo_pivot = trade_promo.melt(id_vars= 'module', var_name= 'Image', value_name='URL')\n",
    "trade_promo_pivot = trade_promo_pivot[trade_promo_pivot['URL'].str.startswith('h') & trade_promo_pivot['URL'].notnull()]\n",
    "trade_promo_pivot.head(100) "
   ]
  },
  {
   "cell_type": "code",
   "execution_count": null,
   "metadata": {},
   "outputs": [],
   "source": [
    "# Function to download an image\n",
    "def download_image(url, folder_name, image_counters):\n",
    "    headers = {\n",
    "        'Cache-Control': 'no-cache',\n",
    "        'Pragma': 'no-cache'\n",
    "    }\n",
    "    response = requests.get(url, headers = headers)\n",
    "    soup = BeautifulSoup(response.content, 'html.parser')\n",
    "    img_tag = soup.find('img', {'alt':'main product photo'})\n",
    "    try:\n",
    "        img_url = img_tag['src']\n",
    "        img_response = requests.get(img_url)\n",
    "        if img_response.status_code == 200:\n",
    "           # Create the folder if it does not exist\n",
    "            os.makedirs(f'Trade Sales/{folder_name}', exist_ok=True)\n",
    "           \n",
    "           # Initialize the image counter for the folder if not already set\n",
    "            if folder_name not in image_counters:\n",
    "                image_counters[folder_name] = 1  # Start counting from 1\n",
    "           \n",
    "           # Get the current image counter for the folder\n",
    "            img_counter = image_counters[folder_name]\n",
    "            img_path = os.path.join('Trade Sales', folder_name, f'image_{img_counter}.jpg')\n",
    "           \n",
    "            with open(img_path, 'wb') as f:\n",
    "                f.write(img_response.content)\n",
    "            print(f'Downloaded {img_path} from {url}')\n",
    "           # Increment the image counter for the folder\n",
    "            image_counters[folder_name] += 1\n",
    "            return img_url\n",
    "        else:\n",
    "            print(f'Failed to download image from {url}')\n",
    "    except TypeError:\n",
    "        if url[0] == 'O' or url[0] == 'W':\n",
    "            print(f'{folder_name}: {url} is a server file path, please access manually')\n",
    "        else:\n",
    "            print(f'Likely URL gave 404. Please check {folder_name}: {url}')\n",
    "        pass\n",
    "\n",
    "# Initialize dictionary to store image counters per folder\n",
    "image_counters = {}\n",
    "src_url = []\n",
    "# Loop through the DataFrame and download each image\n",
    "for index, row in trade_promo_pivot.iterrows():\n",
    "    folder_name = row['module']\n",
    "    url = row['URL']\n",
    "    url_store = download_image(url.strip(), folder_name.strip(), image_counters)\n",
    "    src_url.append(url_store)"
   ]
  },
  {
   "cell_type": "code",
   "execution_count": 43,
   "metadata": {},
   "outputs": [],
   "source": [
    "# output the image sources\n",
    "trade_promo_pivot['img_src'] = src_url\n",
    "trade_promo_pivot = trade_promo_pivot.drop('URL', axis=1)\n",
    "trade_promo_pvt2 = trade_promo_pivot.pivot(index= 'module', columns= 'Image', values='img_src')\n",
    "trade_promo_pvt2.to_csv('output.csv', sep = ',')"
   ]
  }
 ],
 "metadata": {
  "kernelspec": {
   "display_name": "Python 3",
   "language": "python",
   "name": "python3"
  },
  "language_info": {
   "codemirror_mode": {
    "name": "ipython",
    "version": 3
   },
   "file_extension": ".py",
   "mimetype": "text/x-python",
   "name": "python",
   "nbconvert_exporter": "python",
   "pygments_lexer": "ipython3",
   "version": "3.9.5"
  }
 },
 "nbformat": 4,
 "nbformat_minor": 2
}
