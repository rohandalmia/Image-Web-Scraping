{
 "cells": [
  {
   "cell_type": "code",
   "execution_count": 17,
   "metadata": {},
   "outputs": [],
   "source": [
    "import pandas as pd\n",
    "import requests\n",
    "import urllib.request \n",
    "from PIL import Image \n",
    "from io import BytesIO\n",
    "from bs4 import BeautifulSoup\n",
    "import os"
   ]
  },
  {
   "cell_type": "code",
   "execution_count": 20,
   "metadata": {},
   "outputs": [
    {
     "data": {
      "text/html": [
       "<div>\n",
       "<style scoped>\n",
       "    .dataframe tbody tr th:only-of-type {\n",
       "        vertical-align: middle;\n",
       "    }\n",
       "\n",
       "    .dataframe tbody tr th {\n",
       "        vertical-align: top;\n",
       "    }\n",
       "\n",
       "    .dataframe thead th {\n",
       "        text-align: right;\n",
       "    }\n",
       "</style>\n",
       "<table border=\"1\" class=\"dataframe\">\n",
       "  <thead>\n",
       "    <tr style=\"text-align: right;\">\n",
       "      <th></th>\n",
       "      <th>folder_name</th>\n",
       "      <th>Image Location</th>\n",
       "    </tr>\n",
       "  </thead>\n",
       "  <tbody>\n",
       "    <tr>\n",
       "      <th>0</th>\n",
       "      <td>FOOD9</td>\n",
       "      <td>https://www.petbarn.com.au/royal-canin-labrado...</td>\n",
       "    </tr>\n",
       "    <tr>\n",
       "      <th>1</th>\n",
       "      <td>FOOD9</td>\n",
       "      <td>https://www.petbarn.com.au/advance-delicate-tu...</td>\n",
       "    </tr>\n",
       "    <tr>\n",
       "      <th>2</th>\n",
       "      <td>FOOD9</td>\n",
       "      <td>https://www.petbarn.com.au/science-diet-feline...</td>\n",
       "    </tr>\n",
       "    <tr>\n",
       "      <th>3</th>\n",
       "      <td>FOOD9</td>\n",
       "      <td>https://www.petbarn.com.au/black-hawk-grain-fr...</td>\n",
       "    </tr>\n",
       "    <tr>\n",
       "      <th>4</th>\n",
       "      <td>LITTER5</td>\n",
       "      <td>https://www.petbarn.com.au/freshco-clay-clumpi...</td>\n",
       "    </tr>\n",
       "  </tbody>\n",
       "</table>\n",
       "</div>"
      ],
      "text/plain": [
       "  folder_name                                     Image Location\n",
       "0       FOOD9  https://www.petbarn.com.au/royal-canin-labrado...\n",
       "1       FOOD9  https://www.petbarn.com.au/advance-delicate-tu...\n",
       "2       FOOD9  https://www.petbarn.com.au/science-diet-feline...\n",
       "3       FOOD9  https://www.petbarn.com.au/black-hawk-grain-fr...\n",
       "4     LITTER5  https://www.petbarn.com.au/freshco-clay-clumpi..."
      ]
     },
     "execution_count": 20,
     "metadata": {},
     "output_type": "execute_result"
    }
   ],
   "source": [
    "# read file with links\n",
    "gc_file = pd.read_excel('data/Wk33-34 Big Brand Sale Brief V1.xlsx', sheet_name = 'RD TEST')\n",
    "gc_file.columns.values[0] = 'folder_name'\n",
    "gc_file.head(5)"
   ]
  },
  {
   "cell_type": "code",
   "execution_count": 43,
   "metadata": {},
   "outputs": [
    {
     "name": "stdout",
     "output_type": "stream",
     "text": [
      "Downloaded Trade Sales\\FOOD9\\image_1.jpg from https://www.petbarn.com.au/royal-canin-labrador-dog-food?sku=30327\n",
      "Downloaded Trade Sales\\FOOD9\\image_2.jpg from https://www.petbarn.com.au/advance-delicate-tuna-adult-cat-food-85gx7-c76ab7\n",
      "Downloaded Trade Sales\\FOOD9\\image_3.jpg from https://www.petbarn.com.au/science-diet-feline-oral-care-cat-food?sku=132843\n",
      "Downloaded Trade Sales\\FOOD9\\image_4.jpg from https://www.petbarn.com.au/black-hawk-grain-free-chicken-adult-dog-can-100gx9\n",
      "Downloaded Trade Sales\\LITTER5\\image_5.jpg from https://www.petbarn.com.au/freshco-clay-clumping-cat-litter?sku=141868\n",
      "Downloaded Trade Sales\\LITTER5\\image_6.jpg from https://www.petbarn.com.au/cature-tofu-clumping-milky-cat-litter?sku=144701\n"
     ]
    }
   ],
   "source": [
    "# Function to download an image\n",
    "def download_image(url, folder_name, img_name):\n",
    "    headers = {\n",
    "        'Cache-Control': 'no-cache',\n",
    "        'Pragma': 'no-cache'\n",
    "    }\n",
    "    response = requests.get(url, headers = headers)\n",
    "    soup = BeautifulSoup(response.content, 'html.parser')\n",
    "    img_tag = soup.find('img', {'alt':'main product photo'})\n",
    "    img_url = img_tag['src']\n",
    "    img_response = requests.get(img_url)\n",
    "    if img_response.status_code == 200:\n",
    "        # Create the folder if it does not exist\n",
    "        os.makedirs(f'Trade Sales\\{folder_name}', exist_ok=True)\n",
    "        # Save the image\n",
    "        img_path = os.path.join('Trade Sales', folder_name, img_name)\n",
    "        with open(img_path, 'wb') as f:\n",
    "            f.write(img_response.content)\n",
    "        print(f'Downloaded {img_path} from {url}')\n",
    "    else:\n",
    "        print(f'Failed to download image from {url}')\n",
    "\n",
    "# Loop through the DataFrame and download each image\n",
    "for index, row in gc_file.iterrows():\n",
    "    folder_name = row['folder_name']\n",
    "    url = row['Image Location']\n",
    "    # Generate a unique image name\n",
    "    img_name = f'image_{index + 1}.jpg'\n",
    "    download_image(url.strip(), folder_name.strip(), img_name)"
   ]
  }
 ],
 "metadata": {
  "kernelspec": {
   "display_name": "Python 3",
   "language": "python",
   "name": "python3"
  },
  "language_info": {
   "codemirror_mode": {
    "name": "ipython",
    "version": 3
   },
   "file_extension": ".py",
   "mimetype": "text/x-python",
   "name": "python",
   "nbconvert_exporter": "python",
   "pygments_lexer": "ipython3",
   "version": "3.9.5"
  }
 },
 "nbformat": 4,
 "nbformat_minor": 2
}
